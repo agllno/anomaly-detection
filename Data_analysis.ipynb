{
 "cells": [
  {
   "cell_type": "markdown",
   "metadata": {},
   "source": [
    "## Data preprocessing of UGR'16 data"
   ]
  },
  {
   "cell_type": "markdown",
   "metadata": {},
   "source": [
    "### Load data and group by 5min time window and calculate overall bandwidth"
   ]
  },
  {
   "cell_type": "code",
   "execution_count": 2,
   "metadata": {},
   "outputs": [
    {
     "name": "stdout",
     "output_type": "stream",
     "text": [
      "           2016-04-06 17:20:34   52.016    43.164.44.61   42.219.159.85  \\\n",
      "0          2016-04-06 17:20:36  115.092  67.210.176.160  42.219.156.231   \n",
      "1          2016-04-06 17:20:36  242.104    143.72.8.137   42.219.159.69   \n",
      "2          2016-04-06 17:20:39    0.000  102.216.44.233    42.219.153.4   \n",
      "3          2016-04-06 17:20:39    0.000    143.72.4.250  42.219.154.156   \n",
      "4          2016-04-06 17:20:39    0.000    143.72.4.250  42.219.154.156   \n",
      "...                        ...      ...             ...             ...   \n",
      "564028837  2016-04-11 00:01:56   11.796  42.219.156.211   211.39.183.35   \n",
      "564028838  2016-04-11 00:01:56   12.124  42.219.156.211  219.100.130.93   \n",
      "564028839  2016-04-11 00:01:56   13.184  67.204.231.142  42.219.158.180   \n",
      "564028840  2016-04-11 00:01:56   14.404  42.219.158.177   211.58.83.110   \n",
      "564028841  2016-04-11 00:01:57  308.340    211.56.23.53   42.219.157.25   \n",
      "\n",
      "             443  28445  UDP  .A....  0  0.1   76  81963  background  \n",
      "0          52818    143  TCP  .AP...  0    0   19    941  background  \n",
      "1             53  32776  UDP  .A....  0    0   20   2660  background  \n",
      "2          52360     80  TCP  ....S.  0   26    1     60  background  \n",
      "3             53  34620  UDP  .A....  0    0    1    104  background  \n",
      "4             53  58451  UDP  .A....  0    0    1     80  background  \n",
      "...          ...    ...  ...     ... ..  ...  ...    ...         ...  \n",
      "564028837     80  48072  TCP  .AP.SF  0    0    8   1375  background  \n",
      "564028838     80  54819  TCP  .AP.SF  0    0    6   2843  background  \n",
      "564028839  44896    443  TCP  .AP..F  0    0    7   1864  background  \n",
      "564028840    143  55515  TCP  .AP..F  0    0   15   1284  background  \n",
      "564028841   2887  61701  ESP  .A....  0    0  334  46080  background  \n",
      "\n",
      "[564028842 rows x 13 columns]\n"
     ]
    }
   ],
   "source": [
    "import pandas as pd\n",
    "\n",
    "df = pd.read_csv ('april.week2.csv.uniqblacklistremoved')\n",
    "print (df)"
   ]
  },
  {
   "cell_type": "code",
   "execution_count": 3,
   "metadata": {},
   "outputs": [],
   "source": [
    "df.columns=['te','td','sa','da','sp','dp','pr','flg','fwd','stos','pkt','byt','label']"
   ]
  },
  {
   "cell_type": "code",
   "execution_count": 4,
   "metadata": {},
   "outputs": [
    {
     "name": "stdout",
     "output_type": "stream",
     "text": [
      "                            te       td              sa              da  \\\n",
      "564028742  2016-04-11 00:01:53   10.904    169.106.93.5  42.219.158.180   \n",
      "564028743  2016-04-11 00:01:53   10.956  42.219.153.147  208.108.37.187   \n",
      "564028744  2016-04-11 00:01:53   11.088  213.40.250.123  42.219.158.186   \n",
      "564028745  2016-04-11 00:01:53   11.224    73.5.203.135  42.219.155.106   \n",
      "564028746  2016-04-11 00:01:53   11.580   42.219.155.28    64.57.243.91   \n",
      "...                        ...      ...             ...             ...   \n",
      "564028837  2016-04-11 00:01:56   11.796  42.219.156.211   211.39.183.35   \n",
      "564028838  2016-04-11 00:01:56   12.124  42.219.156.211  219.100.130.93   \n",
      "564028839  2016-04-11 00:01:56   13.184  67.204.231.142  42.219.158.180   \n",
      "564028840  2016-04-11 00:01:56   14.404  42.219.158.177   211.58.83.110   \n",
      "564028841  2016-04-11 00:01:57  308.340    211.56.23.53   42.219.157.25   \n",
      "\n",
      "              sp     dp   pr     flg  fwd  stos  pkt    byt       label  \n",
      "564028742  50967    443  TCP  .APRSF    0    40    7    860  background  \n",
      "564028743     80  55237  TCP  .AP.SF    0     0   60  72881  background  \n",
      "564028744  58271     80  TCP  .A...F    0     0    2    104  background  \n",
      "564028745  10170     22  TCP  .AP.SF    0    40   20   2507  background  \n",
      "564028746    443  28173  TCP  .AP.SF    0     0    9   4631  background  \n",
      "...          ...    ...  ...     ...  ...   ...  ...    ...         ...  \n",
      "564028837     80  48072  TCP  .AP.SF    0     0    8   1375  background  \n",
      "564028838     80  54819  TCP  .AP.SF    0     0    6   2843  background  \n",
      "564028839  44896    443  TCP  .AP..F    0     0    7   1864  background  \n",
      "564028840    143  55515  TCP  .AP..F    0     0   15   1284  background  \n",
      "564028841   2887  61701  ESP  .A....    0     0  334  46080  background  \n",
      "\n",
      "[100 rows x 13 columns]\n"
     ]
    }
   ],
   "source": [
    "print(df.tail(100))"
   ]
  },
  {
   "cell_type": "code",
   "execution_count": 5,
   "metadata": {},
   "outputs": [],
   "source": [
    "# Keeping a copy\n",
    "data = df"
   ]
  },
  {
   "cell_type": "code",
   "execution_count": 6,
   "metadata": {},
   "outputs": [],
   "source": [
    "# Changing column data type for te\n",
    "data['te'] = pd.to_datetime(df['te'])"
   ]
  },
  {
   "cell_type": "code",
   "execution_count": 7,
   "metadata": {},
   "outputs": [
    {
     "data": {
      "text/plain": [
       "<bound method NDFrame.describe of                            te       td              sa              da     sp  \\\n",
       "0         2016-04-06 17:20:36  115.092  67.210.176.160  42.219.156.231  52818   \n",
       "1         2016-04-06 17:20:36  242.104    143.72.8.137   42.219.159.69     53   \n",
       "2         2016-04-06 17:20:39    0.000  102.216.44.233    42.219.153.4  52360   \n",
       "3         2016-04-06 17:20:39    0.000    143.72.4.250  42.219.154.156     53   \n",
       "4         2016-04-06 17:20:39    0.000    143.72.4.250  42.219.154.156     53   \n",
       "...                       ...      ...             ...             ...    ...   \n",
       "564028837 2016-04-11 00:01:56   11.796  42.219.156.211   211.39.183.35     80   \n",
       "564028838 2016-04-11 00:01:56   12.124  42.219.156.211  219.100.130.93     80   \n",
       "564028839 2016-04-11 00:01:56   13.184  67.204.231.142  42.219.158.180  44896   \n",
       "564028840 2016-04-11 00:01:56   14.404  42.219.158.177   211.58.83.110    143   \n",
       "564028841 2016-04-11 00:01:57  308.340    211.56.23.53   42.219.157.25   2887   \n",
       "\n",
       "              dp   pr     flg  fwd  stos  pkt    byt       label  \n",
       "0            143  TCP  .AP...    0     0   19    941  background  \n",
       "1          32776  UDP  .A....    0     0   20   2660  background  \n",
       "2             80  TCP  ....S.    0    26    1     60  background  \n",
       "3          34620  UDP  .A....    0     0    1    104  background  \n",
       "4          58451  UDP  .A....    0     0    1     80  background  \n",
       "...          ...  ...     ...  ...   ...  ...    ...         ...  \n",
       "564028837  48072  TCP  .AP.SF    0     0    8   1375  background  \n",
       "564028838  54819  TCP  .AP.SF    0     0    6   2843  background  \n",
       "564028839    443  TCP  .AP..F    0     0    7   1864  background  \n",
       "564028840  55515  TCP  .AP..F    0     0   15   1284  background  \n",
       "564028841  61701  ESP  .A....    0     0  334  46080  background  \n",
       "\n",
       "[564028842 rows x 13 columns]>"
      ]
     },
     "execution_count": 7,
     "metadata": {},
     "output_type": "execute_result"
    }
   ],
   "source": [
    "data.describe"
   ]
  },
  {
   "cell_type": "code",
   "execution_count": 8,
   "metadata": {},
   "outputs": [],
   "source": [
    "# Get start time of flow/transaction\n",
    "data['ts'] = data['te'] - pd.to_timedelta(data.td, unit='ms')"
   ]
  },
  {
   "cell_type": "code",
   "execution_count": 9,
   "metadata": {
    "scrolled": true
   },
   "outputs": [
    {
     "name": "stdout",
     "output_type": "stream",
     "text": [
      "                   te       td              sa              da     sp     dp  \\\n",
      "0 2016-04-06 17:20:36  115.092  67.210.176.160  42.219.156.231  52818    143   \n",
      "1 2016-04-06 17:20:36  242.104    143.72.8.137   42.219.159.69     53  32776   \n",
      "2 2016-04-06 17:20:39    0.000  102.216.44.233    42.219.153.4  52360     80   \n",
      "3 2016-04-06 17:20:39    0.000    143.72.4.250  42.219.154.156     53  34620   \n",
      "4 2016-04-06 17:20:39    0.000    143.72.4.250  42.219.154.156     53  58451   \n",
      "5 2016-04-06 17:20:39    0.000    143.72.4.250  42.219.154.156     53  58925   \n",
      "6 2016-04-06 17:20:39    0.000    143.72.4.250   42.219.159.85     53  46754   \n",
      "7 2016-04-06 17:20:39    0.000    143.72.4.250   42.219.159.85     53  46760   \n",
      "8 2016-04-06 17:20:39    0.000    143.72.4.250   42.219.159.85     53  49116   \n",
      "9 2016-04-06 17:20:39    0.000    143.72.4.250   42.219.159.85     53  51454   \n",
      "\n",
      "    pr     flg  fwd  stos  pkt   byt       label                         ts  \n",
      "0  TCP  .AP...    0     0   19   941  background 2016-04-06 17:20:35.884908  \n",
      "1  UDP  .A....    0     0   20  2660  background 2016-04-06 17:20:35.757896  \n",
      "2  TCP  ....S.    0    26    1    60  background 2016-04-06 17:20:39.000000  \n",
      "3  UDP  .A....    0     0    1   104  background 2016-04-06 17:20:39.000000  \n",
      "4  UDP  .A....    0     0    1    80  background 2016-04-06 17:20:39.000000  \n",
      "5  UDP  .A....    0     0    1   144  background 2016-04-06 17:20:39.000000  \n",
      "6  UDP  .A....    0     0    1   138  background 2016-04-06 17:20:39.000000  \n",
      "7  UDP  .A....    0     0    1   122  background 2016-04-06 17:20:39.000000  \n",
      "8  UDP  .A....    0     0    1   278  background 2016-04-06 17:20:39.000000  \n",
      "9  UDP  .A....    0     0    1    80  background 2016-04-06 17:20:39.000000  \n"
     ]
    }
   ],
   "source": [
    "print(data.head(10))"
   ]
  },
  {
   "cell_type": "code",
   "execution_count": 10,
   "metadata": {},
   "outputs": [],
   "source": [
    "# Function to mark traffic has anomalous data when windowing\n",
    "normal_traffic_type = ['background', 'blacklist']\n",
    "def isAnomolus(x):\n",
    "    data = ~x.isin(normal_traffic_type)\n",
    "    if data.any():\n",
    "        return 1\n",
    "    else:\n",
    "        return 0"
   ]
  },
  {
   "cell_type": "code",
   "execution_count": 11,
   "metadata": {},
   "outputs": [],
   "source": [
    "# Data windowed for 5 min by adding pkt and byt, whreas label and true if any anomalous traffic exists in time window\n",
    "data_win = data.groupby(pd.Grouper(key='te', freq='5T')).agg({\n",
    "                                        \"pkt\":  \"sum\",\n",
    "                                        \"byt\":  \"sum\",\n",
    "                                        \"label\": isAnomolus\n",
    "                                    })"
   ]
  },
  {
   "cell_type": "code",
   "execution_count": 12,
   "metadata": {
    "scrolled": true
   },
   "outputs": [
    {
     "name": "stdout",
     "output_type": "stream",
     "text": [
      "                          pkt          byt  label\n",
      "te                                               \n",
      "2016-04-06 17:20:00  12024288   8430871728      0\n",
      "2016-04-06 17:25:00  14298084  10005573318      0\n",
      "2016-04-06 17:30:00  12972964   8835532377      0\n",
      "2016-04-06 17:35:00  15062355  10763871609      0\n",
      "2016-04-06 17:40:00  13324225   9794741037      0\n",
      "...                       ...          ...    ...\n",
      "2016-04-10 23:40:00  10317441   7499235938      1\n",
      "2016-04-10 23:45:00   8715832   5230529924      1\n",
      "2016-04-10 23:50:00  10992020   8292543217      1\n",
      "2016-04-10 23:55:00  12124602   9311754109      1\n",
      "2016-04-11 00:00:00   5276180   4623247993      1\n",
      "\n",
      "[1233 rows x 3 columns]\n"
     ]
    }
   ],
   "source": [
    "print(data_win)"
   ]
  },
  {
   "cell_type": "code",
   "execution_count": 13,
   "metadata": {},
   "outputs": [
    {
     "data": {
      "text/plain": [
       "array(['background', 'blacklist', 'anomaly-spam', 'anomaly-sshscan'],\n",
       "      dtype=object)"
      ]
     },
     "execution_count": 13,
     "metadata": {},
     "output_type": "execute_result"
    }
   ],
   "source": [
    "# Get all unique labels\n",
    "data.label.unique()"
   ]
  },
  {
   "cell_type": "markdown",
   "metadata": {},
   "source": [
    "### Taking only normal traffic(including blacklisted) \n",
    "The idea is to forecats the normal traffic, and compare with anomalous traffic for any deviation. Hence getting normal traffic windowed for each 5min which will be used for forecasting."
   ]
  },
  {
   "cell_type": "code",
   "execution_count": 14,
   "metadata": {},
   "outputs": [],
   "source": [
    "# Filter normal traffic\n",
    "data_normal_traffic = data[data['label'].isin(normal_traffic_type)] "
   ]
  },
  {
   "cell_type": "code",
   "execution_count": 15,
   "metadata": {},
   "outputs": [],
   "source": [
    "# Window normal traffic for 5min window\n",
    "data_normal_traffic_win = data_normal_traffic.groupby(pd.Grouper(key='te', freq='5T')).agg({\n",
    "                                        \"pkt\":  \"sum\",\n",
    "                                        \"byt\":  \"sum\"\n",
    "                                    })"
   ]
  },
  {
   "cell_type": "code",
   "execution_count": 16,
   "metadata": {},
   "outputs": [],
   "source": [
    "#Importing plot lib\n",
    "import matplotlib.pyplot as plt\n",
    "import seaborn as sns\n",
    "sns.set(rc={'figure.figsize':(20, 100)})"
   ]
  },
  {
   "cell_type": "code",
   "execution_count": 17,
   "metadata": {},
   "outputs": [
    {
     "data": {
      "text/plain": [
       "<matplotlib.axes._subplots.AxesSubplot at 0x7f92cd511510>"
      ]
     },
     "execution_count": 17,
     "metadata": {},
     "output_type": "execute_result"
    },
    {
     "data": {
      "image/png": "[encoded data removed]",
      "text/plain": [
       "<Figure size 432x288 with 1 Axes>"
      ]
     },
     "metadata": {
      "needs_background": "light"
     },
     "output_type": "display_data"
    }
   ],
   "source": [
    "plt.figure()\n",
    "data_normal_traffic_win_scaledown = data_normal_traffic_win.divide(10000000000)\n",
    "data_normal_traffic_win_scaledown['byt'].plot()"
   ]
  },
  {
   "cell_type": "code",
   "execution_count": 18,
   "metadata": {},
   "outputs": [
    {
     "data": {
      "text/plain": [
       "<matplotlib.axes._subplots.AxesSubplot at 0x7f9363940390>"
      ]
     },
     "execution_count": 18,
     "metadata": {},
     "output_type": "execute_result"
    },
    {
     "data": {
      "image/png": "[encoded data removed]",
      "text/plain": [
       "<Figure size 432x288 with 1 Axes>"
      ]
     },
     "metadata": {
      "needs_background": "light"
     },
     "output_type": "display_data"
    }
   ],
   "source": [
    "data_win_scaledown = data_win.divide(10000000000)\n",
    "data_win_scaledown['byt'].plot()"
   ]
  },
  {
   "cell_type": "code",
   "execution_count": 19,
   "metadata": {},
   "outputs": [
    {
     "data": {
      "text/plain": [
       "<bound method NDFrame.describe of                            te       td              sa              da     sp  \\\n",
       "0         2016-04-06 17:20:36  115.092  67.210.176.160  42.219.156.231  52818   \n",
       "1         2016-04-06 17:20:36  242.104    143.72.8.137   42.219.159.69     53   \n",
       "2         2016-04-06 17:20:39    0.000  102.216.44.233    42.219.153.4  52360   \n",
       "3         2016-04-06 17:20:39    0.000    143.72.4.250  42.219.154.156     53   \n",
       "4         2016-04-06 17:20:39    0.000    143.72.4.250  42.219.154.156     53   \n",
       "...                       ...      ...             ...             ...    ...   \n",
       "564028837 2016-04-11 00:01:56   11.796  42.219.156.211   211.39.183.35     80   \n",
       "564028838 2016-04-11 00:01:56   12.124  42.219.156.211  219.100.130.93     80   \n",
       "564028839 2016-04-11 00:01:56   13.184  67.204.231.142  42.219.158.180  44896   \n",
       "564028840 2016-04-11 00:01:56   14.404  42.219.158.177   211.58.83.110    143   \n",
       "564028841 2016-04-11 00:01:57  308.340    211.56.23.53   42.219.157.25   2887   \n",
       "\n",
       "              dp   pr     flg  fwd  stos  pkt    byt       label  \\\n",
       "0            143  TCP  .AP...    0     0   19    941  background   \n",
       "1          32776  UDP  .A....    0     0   20   2660  background   \n",
       "2             80  TCP  ....S.    0    26    1     60  background   \n",
       "3          34620  UDP  .A....    0     0    1    104  background   \n",
       "4          58451  UDP  .A....    0     0    1     80  background   \n",
       "...          ...  ...     ...  ...   ...  ...    ...         ...   \n",
       "564028837  48072  TCP  .AP.SF    0     0    8   1375  background   \n",
       "564028838  54819  TCP  .AP.SF    0     0    6   2843  background   \n",
       "564028839    443  TCP  .AP..F    0     0    7   1864  background   \n",
       "564028840  55515  TCP  .AP..F    0     0   15   1284  background   \n",
       "564028841  61701  ESP  .A....    0     0  334  46080  background   \n",
       "\n",
       "                                  ts  \n",
       "0         2016-04-06 17:20:35.884908  \n",
       "1         2016-04-06 17:20:35.757896  \n",
       "2         2016-04-06 17:20:39.000000  \n",
       "3         2016-04-06 17:20:39.000000  \n",
       "4         2016-04-06 17:20:39.000000  \n",
       "...                              ...  \n",
       "564028837 2016-04-11 00:01:55.988204  \n",
       "564028838 2016-04-11 00:01:55.987876  \n",
       "564028839 2016-04-11 00:01:55.986816  \n",
       "564028840 2016-04-11 00:01:55.985596  \n",
       "564028841 2016-04-11 00:01:56.691660  \n",
       "\n",
       "[564028842 rows x 14 columns]>"
      ]
     },
     "execution_count": 19,
     "metadata": {},
     "output_type": "execute_result"
    }
   ],
   "source": [
    "data.describe"
   ]
  },
  {
   "cell_type": "code",
   "execution_count": 20,
   "metadata": {},
   "outputs": [
    {
     "data": {
      "text/plain": [
       "<bound method NDFrame.describe of                            te       td              sa              da     sp  \\\n",
       "0         2016-04-06 17:20:36  115.092  67.210.176.160  42.219.156.231  52818   \n",
       "1         2016-04-06 17:20:36  242.104    143.72.8.137   42.219.159.69     53   \n",
       "2         2016-04-06 17:20:39    0.000  102.216.44.233    42.219.153.4  52360   \n",
       "3         2016-04-06 17:20:39    0.000    143.72.4.250  42.219.154.156     53   \n",
       "4         2016-04-06 17:20:39    0.000    143.72.4.250  42.219.154.156     53   \n",
       "...                       ...      ...             ...             ...    ...   \n",
       "564028837 2016-04-11 00:01:56   11.796  42.219.156.211   211.39.183.35     80   \n",
       "564028838 2016-04-11 00:01:56   12.124  42.219.156.211  219.100.130.93     80   \n",
       "564028839 2016-04-11 00:01:56   13.184  67.204.231.142  42.219.158.180  44896   \n",
       "564028840 2016-04-11 00:01:56   14.404  42.219.158.177   211.58.83.110    143   \n",
       "564028841 2016-04-11 00:01:57  308.340    211.56.23.53   42.219.157.25   2887   \n",
       "\n",
       "              dp   pr     flg  fwd  stos  pkt    byt       label  \\\n",
       "0            143  TCP  .AP...    0     0   19    941  background   \n",
       "1          32776  UDP  .A....    0     0   20   2660  background   \n",
       "2             80  TCP  ....S.    0    26    1     60  background   \n",
       "3          34620  UDP  .A....    0     0    1    104  background   \n",
       "4          58451  UDP  .A....    0     0    1     80  background   \n",
       "...          ...  ...     ...  ...   ...  ...    ...         ...   \n",
       "564028837  48072  TCP  .AP.SF    0     0    8   1375  background   \n",
       "564028838  54819  TCP  .AP.SF    0     0    6   2843  background   \n",
       "564028839    443  TCP  .AP..F    0     0    7   1864  background   \n",
       "564028840  55515  TCP  .AP..F    0     0   15   1284  background   \n",
       "564028841  61701  ESP  .A....    0     0  334  46080  background   \n",
       "\n",
       "                                  ts  \n",
       "0         2016-04-06 17:20:35.884908  \n",
       "1         2016-04-06 17:20:35.757896  \n",
       "2         2016-04-06 17:20:39.000000  \n",
       "3         2016-04-06 17:20:39.000000  \n",
       "4         2016-04-06 17:20:39.000000  \n",
       "...                              ...  \n",
       "564028837 2016-04-11 00:01:55.988204  \n",
       "564028838 2016-04-11 00:01:55.987876  \n",
       "564028839 2016-04-11 00:01:55.986816  \n",
       "564028840 2016-04-11 00:01:55.985596  \n",
       "564028841 2016-04-11 00:01:56.691660  \n",
       "\n",
       "[559099721 rows x 14 columns]>"
      ]
     },
     "execution_count": 20,
     "metadata": {},
     "output_type": "execute_result"
    }
   ],
   "source": [
    "data_normal_traffic.describe"
   ]
  },
  {
   "cell_type": "code",
   "execution_count": 21,
   "metadata": {},
   "outputs": [],
   "source": [
    "data_anomaly_traffic = data[~data['label'].isin(normal_traffic_type)] "
   ]
  },
  {
   "cell_type": "code",
   "execution_count": 22,
   "metadata": {},
   "outputs": [
    {
     "name": "stdout",
     "output_type": "stream",
     "text": [
      "                           te      td              sa              da     sp  \\\n",
      "7249799   2016-04-06 18:25:53   6.192  193.26.243.145  42.219.156.212     25   \n",
      "7249834   2016-04-06 18:25:53   7.364  42.219.156.212  193.26.243.145  45829   \n",
      "7249889   2016-04-06 18:25:53   9.404  193.26.243.129  42.219.156.223     25   \n",
      "7249893   2016-04-06 18:25:53   9.576  42.219.156.223  193.26.243.129  44981   \n",
      "7251496   2016-04-06 18:25:54   5.428  193.26.243.174  42.219.156.213     25   \n",
      "...                       ...     ...             ...             ...    ...   \n",
      "564028596 2016-04-11 00:01:50   5.040  42.219.156.231    71.62.189.34  51238   \n",
      "564028614 2016-04-11 00:01:50   8.384  42.219.156.231    71.62.187.87  55636   \n",
      "564028618 2016-04-11 00:01:50   8.676    71.62.187.87  42.219.156.231     22   \n",
      "564028683 2016-04-11 00:01:51   9.440  42.219.156.231    71.62.189.16  35309   \n",
      "564028684 2016-04-11 00:01:52  10.044    71.62.189.16  42.219.156.231     22   \n",
      "\n",
      "              dp   pr     flg  fwd  stos  pkt   byt            label  \\\n",
      "7249799    45829  TCP  .AP.SF    0    40   13  1354     anomaly-spam   \n",
      "7249834       25  TCP  .APRS.    0     0   15  7155     anomaly-spam   \n",
      "7249889    44981  TCP  .AP.SF    0    40    9  1135     anomaly-spam   \n",
      "7249893       25  TCP  .APRS.    0     0   14  7060     anomaly-spam   \n",
      "7251496    55350  TCP  .AP.SF    0    40   10  1196     anomaly-spam   \n",
      "...          ...  ...     ...  ...   ...  ...   ...              ...   \n",
      "564028596     22  TCP  .AP.SF    0     0   12  1253  anomaly-sshscan   \n",
      "564028614     22  TCP  .AP.SF    0     0   14  1409  anomaly-sshscan   \n",
      "564028618  55636  TCP  .APRS.    0    40   17  1764  anomaly-sshscan   \n",
      "564028683     22  TCP  .AP.SF    0     0   15  1433  anomaly-sshscan   \n",
      "564028684  35309  TCP  .AP.SF    0    40   18  2039  anomaly-sshscan   \n",
      "\n",
      "                                  ts  \n",
      "7249799   2016-04-06 18:25:52.993808  \n",
      "7249834   2016-04-06 18:25:52.992636  \n",
      "7249889   2016-04-06 18:25:52.990596  \n",
      "7249893   2016-04-06 18:25:52.990424  \n",
      "7251496   2016-04-06 18:25:53.994572  \n",
      "...                              ...  \n",
      "564028596 2016-04-11 00:01:49.994960  \n",
      "564028614 2016-04-11 00:01:49.991616  \n",
      "564028618 2016-04-11 00:01:49.991324  \n",
      "564028683 2016-04-11 00:01:50.990560  \n",
      "564028684 2016-04-11 00:01:51.989956  \n",
      "\n",
      "[4929121 rows x 14 columns]\n"
     ]
    }
   ],
   "source": [
    "print(data_anomaly_traffic)"
   ]
  },
  {
   "cell_type": "code",
   "execution_count": 23,
   "metadata": {},
   "outputs": [],
   "source": [
    "merged_data = pd.merge(data_win, data_normal_traffic_win, on=['te'], how='inner')"
   ]
  },
  {
   "cell_type": "code",
   "execution_count": 24,
   "metadata": {
    "scrolled": true
   },
   "outputs": [
    {
     "name": "stdout",
     "output_type": "stream",
     "text": [
      "                        pkt_x        byt_x  label     pkt_y        byt_y\n",
      "te                                                                      \n",
      "2016-04-06 17:20:00  12024288   8430871728      0  12024288   8430871728\n",
      "2016-04-06 17:25:00  14298084  10005573318      0  14298084  10005573318\n",
      "2016-04-06 17:30:00  12972964   8835532377      0  12972964   8835532377\n",
      "2016-04-06 17:35:00  15062355  10763871609      0  15062355  10763871609\n",
      "2016-04-06 17:40:00  13324225   9794741037      0  13324225   9794741037\n",
      "...                       ...          ...    ...       ...          ...\n",
      "2016-04-10 23:40:00  10317441   7499235938      1  10085890   7475150329\n",
      "2016-04-10 23:45:00   8715832   5230529924      1   8483657   5206373108\n",
      "2016-04-10 23:50:00  10992020   8292543217      1  10758037   8268213874\n",
      "2016-04-10 23:55:00  12124602   9311754109      1  11888127   9287190911\n",
      "2016-04-11 00:00:00   5276180   4623247993      1   5185516   4613826068\n",
      "\n",
      "[1233 rows x 5 columns]\n"
     ]
    }
   ],
   "source": [
    "print(merged_data)"
   ]
  },
  {
   "cell_type": "code",
   "execution_count": 25,
   "metadata": {},
   "outputs": [],
   "source": [
    "merged_data['byt_diff'] = merged_data.byt_x - merged_data.byt_y"
   ]
  },
  {
   "cell_type": "code",
   "execution_count": 26,
   "metadata": {},
   "outputs": [
    {
     "name": "stdout",
     "output_type": "stream",
     "text": [
      "                        pkt_x        byt_x  label     pkt_y        byt_y  \\\n",
      "te                                                                         \n",
      "2016-04-10 21:35:00  13006069   9727464478      1  12772637   9703075677   \n",
      "2016-04-10 21:40:00  13193204  10108199455      1  12957536  10083594991   \n",
      "2016-04-10 21:45:00  13444313  10215172294      1  13201136  10189799100   \n",
      "2016-04-10 21:50:00  12336148   9273748647      1  12088081   9247875532   \n",
      "2016-04-10 21:55:00  13474418  10474311503      1  13225672  10448383025   \n",
      "2016-04-10 22:00:00  13932724  10909647979      1  13682795  10883595113   \n",
      "2016-04-10 22:05:00  12463681   9570960867      1  12220175   9545580317   \n",
      "2016-04-10 22:10:00  12340477   9394390085      1  12098387   9369156313   \n",
      "2016-04-10 22:15:00  10978890   8197283315      1  10736362   8171993487   \n",
      "2016-04-10 22:20:00  12007387   8710118203      1  11767587   8685118662   \n",
      "2016-04-10 22:25:00  10535252   7285346671      1  10298090   7260617582   \n",
      "2016-04-10 22:30:00  11606693   8623264107      1  11371180   8598716390   \n",
      "2016-04-10 22:35:00  11199839   8115553352      1  10960902   8090677680   \n",
      "2016-04-10 22:40:00  11358882   8082220393      1  11128272   8058212155   \n",
      "2016-04-10 22:45:00  10607116   7591503351      1  10377585   7567572901   \n",
      "2016-04-10 22:50:00  11450892   8323231132      1  11220689   8299210285   \n",
      "2016-04-10 22:55:00  12036442   8859033174      1  11798105   8834168859   \n",
      "2016-04-10 23:00:00  12068778   9025371272      1  11840081   9001469251   \n",
      "2016-04-10 23:05:00  11641470   8517260982      1  11413638   8493499934   \n",
      "2016-04-10 23:10:00  13476734  10590000618      1  13247500  10566123632   \n",
      "2016-04-10 23:15:00  11419838   8536013542      1  11186468   8511698993   \n",
      "2016-04-10 23:20:00  11877422   8958729783      1  11640387   8934043557   \n",
      "2016-04-10 23:25:00  10862564   7906196228      1  10627351   7881675639   \n",
      "2016-04-10 23:30:00  10988161   8218984937      1  10751799   8194402893   \n",
      "2016-04-10 23:35:00  10217610   7448946340      1   9986123   7424855399   \n",
      "2016-04-10 23:40:00  10317441   7499235938      1  10085890   7475150329   \n",
      "2016-04-10 23:45:00   8715832   5230529924      1   8483657   5206373108   \n",
      "2016-04-10 23:50:00  10992020   8292543217      1  10758037   8268213874   \n",
      "2016-04-10 23:55:00  12124602   9311754109      1  11888127   9287190911   \n",
      "2016-04-11 00:00:00   5276180   4623247993      1   5185516   4613826068   \n",
      "\n",
      "                     byt_diff  \n",
      "te                             \n",
      "2016-04-10 21:35:00  24388801  \n",
      "2016-04-10 21:40:00  24604464  \n",
      "2016-04-10 21:45:00  25373194  \n",
      "2016-04-10 21:50:00  25873115  \n",
      "2016-04-10 21:55:00  25928478  \n",
      "2016-04-10 22:00:00  26052866  \n",
      "2016-04-10 22:05:00  25380550  \n",
      "2016-04-10 22:10:00  25233772  \n",
      "2016-04-10 22:15:00  25289828  \n",
      "2016-04-10 22:20:00  24999541  \n",
      "2016-04-10 22:25:00  24729089  \n",
      "2016-04-10 22:30:00  24547717  \n",
      "2016-04-10 22:35:00  24875672  \n",
      "2016-04-10 22:40:00  24008238  \n",
      "2016-04-10 22:45:00  23930450  \n",
      "2016-04-10 22:50:00  24020847  \n",
      "2016-04-10 22:55:00  24864315  \n",
      "2016-04-10 23:00:00  23902021  \n",
      "2016-04-10 23:05:00  23761048  \n",
      "2016-04-10 23:10:00  23876986  \n",
      "2016-04-10 23:15:00  24314549  \n",
      "2016-04-10 23:20:00  24686226  \n",
      "2016-04-10 23:25:00  24520589  \n",
      "2016-04-10 23:30:00  24582044  \n",
      "2016-04-10 23:35:00  24090941  \n",
      "2016-04-10 23:40:00  24085609  \n",
      "2016-04-10 23:45:00  24156816  \n",
      "2016-04-10 23:50:00  24329343  \n",
      "2016-04-10 23:55:00  24563198  \n",
      "2016-04-11 00:00:00   9421925  \n"
     ]
    }
   ],
   "source": [
    "print(merged_data.tail(30))"
   ]
  },
  {
   "cell_type": "code",
   "execution_count": 27,
   "metadata": {},
   "outputs": [
    {
     "data": {
      "text/plain": [
       "<matplotlib.axes._subplots.AxesSubplot at 0x7f93b417b210>"
      ]
     },
     "execution_count": 27,
     "metadata": {},
     "output_type": "execute_result"
    },
    {
     "data": {
      "image/png": "[encoded data removed]",
      "text/plain": [
       "<Figure size 1440x432 with 1 Axes>"
      ]
     },
     "metadata": {
      "needs_background": "light"
     },
     "output_type": "display_data"
    }
   ],
   "source": [
    "import matplotlib.dates as mdates\n",
    "plt.rc('font', size=12)\n",
    "fig, ax = plt.subplots(figsize=(20, 6))\n",
    "ax.plot(merged_data.byt_diff, color='tab:orange', label='Difference')\n",
    "myFmt = mdates.DateFormatter('%Y-%M-%D')\n",
    "ax.xaxis.set_major_formatter(myFmt)\n",
    "merged_data.byt_diff.plot()"
   ]
  },
  {
   "cell_type": "code",
   "execution_count": 28,
   "metadata": {},
   "outputs": [
    {
     "name": "stdout",
     "output_type": "stream",
     "text": [
      "<class 'pandas.core.frame.DataFrame'>\n",
      "DatetimeIndex: 1233 entries, 2016-04-06 17:20:00 to 2016-04-11 00:00:00\n",
      "Data columns (total 6 columns):\n",
      "pkt_x       1233 non-null int64\n",
      "byt_x       1233 non-null int64\n",
      "label       1233 non-null int64\n",
      "pkt_y       1233 non-null int64\n",
      "byt_y       1233 non-null int64\n",
      "byt_diff    1233 non-null int64\n",
      "dtypes: int64(6)\n",
      "memory usage: 67.4 KB\n"
     ]
    }
   ],
   "source": [
    "merged_data.info()"
   ]
  },
  {
   "cell_type": "code",
   "execution_count": 29,
   "metadata": {},
   "outputs": [],
   "source": [
    "merged_data['byt_diff_scaled'] = merged_data['byt_diff']/10000000"
   ]
  },
  {
   "cell_type": "code",
   "execution_count": 30,
   "metadata": {},
   "outputs": [
    {
     "name": "stdout",
     "output_type": "stream",
     "text": [
      "                        pkt_x        byt_x  label     pkt_y        byt_y  \\\n",
      "te                                                                         \n",
      "2016-04-06 17:20:00  12024288   8430871728      0  12024288   8430871728   \n",
      "2016-04-06 17:25:00  14298084  10005573318      0  14298084  10005573318   \n",
      "2016-04-06 17:30:00  12972964   8835532377      0  12972964   8835532377   \n",
      "2016-04-06 17:35:00  15062355  10763871609      0  15062355  10763871609   \n",
      "2016-04-06 17:40:00  13324225   9794741037      0  13324225   9794741037   \n",
      "2016-04-06 17:45:00  14595281  10539076236      0  14595281  10539076236   \n",
      "2016-04-06 17:50:00  15011001  10593487337      0  15011001  10593487337   \n",
      "2016-04-06 17:55:00  15320880  11187455843      0  15320880  11187455843   \n",
      "2016-04-06 18:00:00  14893614  10566279050      0  14893614  10566279050   \n",
      "2016-04-06 18:05:00  15233097  11012020976      0  15233097  11012020976   \n",
      "2016-04-06 18:10:00  16461150  12010746124      0  16461150  12010746124   \n",
      "2016-04-06 18:15:00  13858119   9913906807      0  13858119   9913906807   \n",
      "2016-04-06 18:20:00  14499681  10253972528      0  14499681  10253972528   \n",
      "2016-04-06 18:25:00  15419592  11573415576      1  15419468  11573373953   \n",
      "2016-04-06 18:30:00  16711760  11916515590      0  16711760  11916515590   \n",
      "2016-04-06 18:35:00  14616727  10325271588      0  14616727  10325271588   \n",
      "2016-04-06 18:40:00  15087837  10562321718      0  15087837  10562321718   \n",
      "2016-04-06 18:45:00  14173923  10301596952      0  14173923  10301596952   \n",
      "2016-04-06 18:50:00  14508210  10475880498      0  14508210  10475880498   \n",
      "2016-04-06 18:55:00  13317700   9374493728      0  13317700   9374493728   \n",
      "\n",
      "                     byt_diff  byt_diff_scaled  \n",
      "te                                              \n",
      "2016-04-06 17:20:00         0         0.000000  \n",
      "2016-04-06 17:25:00         0         0.000000  \n",
      "2016-04-06 17:30:00         0         0.000000  \n",
      "2016-04-06 17:35:00         0         0.000000  \n",
      "2016-04-06 17:40:00         0         0.000000  \n",
      "2016-04-06 17:45:00         0         0.000000  \n",
      "2016-04-06 17:50:00         0         0.000000  \n",
      "2016-04-06 17:55:00         0         0.000000  \n",
      "2016-04-06 18:00:00         0         0.000000  \n",
      "2016-04-06 18:05:00         0         0.000000  \n",
      "2016-04-06 18:10:00         0         0.000000  \n",
      "2016-04-06 18:15:00         0         0.000000  \n",
      "2016-04-06 18:20:00         0         0.000000  \n",
      "2016-04-06 18:25:00     41623         0.004162  \n",
      "2016-04-06 18:30:00         0         0.000000  \n",
      "2016-04-06 18:35:00         0         0.000000  \n",
      "2016-04-06 18:40:00         0         0.000000  \n",
      "2016-04-06 18:45:00         0         0.000000  \n",
      "2016-04-06 18:50:00         0         0.000000  \n",
      "2016-04-06 18:55:00         0         0.000000  \n"
     ]
    }
   ],
   "source": [
    "print(merged_data.head(20))"
   ]
  },
  {
   "cell_type": "code",
   "execution_count": 31,
   "metadata": {},
   "outputs": [
    {
     "data": {
      "text/plain": [
       "[<matplotlib.lines.Line2D at 0x7f9434b6f790>]"
      ]
     },
     "execution_count": 31,
     "metadata": {},
     "output_type": "execute_result"
    },
    {
     "data": {
      "image/png": "[encoded data removed]",
      "text/plain": [
       "<Figure size 1440x432 with 1 Axes>"
      ]
     },
     "metadata": {
      "needs_background": "light"
     },
     "output_type": "display_data"
    }
   ],
   "source": [
    "import matplotlib.dates as mdates\n",
    "plt.rc('font', size=12)\n",
    "fig, ax = plt.subplots(figsize=(20, 6))\n",
    "ax.plot(merged_data.byt_diff, color='tab:orange', label='Difference')\n",
    "myFmt = mdates.DateFormatter('%Y-%M-%D')\n",
    "ax.xaxis.set_major_formatter(myFmt)\n",
    "ax.plot(merged_data.label)"
   ]
  },
  {
   "cell_type": "markdown",
   "metadata": {},
   "source": [
    "### EDA for windowed data"
   ]
  },
  {
   "cell_type": "code",
   "execution_count": 32,
   "metadata": {},
   "outputs": [
    {
     "data": {
      "text/plain": [
       "<matplotlib.axes._subplots.AxesSubplot at 0x7f94619f5c10>"
      ]
     },
     "execution_count": 32,
     "metadata": {},
     "output_type": "execute_result"
    },
    {
     "data": {
      "image/png": "[encoded data removed]",
      "text/plain": [
       "<Figure size 432x288 with 1 Axes>"
      ]
     },
     "metadata": {
      "needs_background": "light"
     },
     "output_type": "display_data"
    }
   ],
   "source": [
    "data_win.label.plot.hist()"
   ]
  },
  {
   "cell_type": "code",
   "execution_count": 33,
   "metadata": {},
   "outputs": [
    {
     "name": "stderr",
     "output_type": "stream",
     "text": [
      "'c' argument looks like a single numeric RGB or RGBA sequence, which should be avoided as value-mapping will have precedence in case its length matches with 'x' & 'y'.  Please use a 2-D array with a single row if you really want to specify the same RGB or RGBA value for all points.\n"
     ]
    },
    {
     "data": {
      "text/plain": [
       "<matplotlib.axes._subplots.AxesSubplot at 0x7f94b4e9e3d0>"
      ]
     },
     "execution_count": 33,
     "metadata": {},
     "output_type": "execute_result"
    },
    {
     "data": {
      "image/png": "[encoded data removed]",
      "text/plain": [
       "<Figure size 432x288 with 1 Axes>"
      ]
     },
     "metadata": {
      "needs_background": "light"
     },
     "output_type": "display_data"
    }
   ],
   "source": [
    "merged_data.reset_index().plot.scatter(x='label',y='byt_diff')"
   ]
  },
  {
   "cell_type": "code",
   "execution_count": 34,
   "metadata": {},
   "outputs": [
    {
     "data": {
      "text/plain": [
       "pkt_x              0\n",
       "byt_x              0\n",
       "label              0\n",
       "pkt_y              0\n",
       "byt_y              0\n",
       "byt_diff           0\n",
       "byt_diff_scaled    0\n",
       "dtype: int64"
      ]
     },
     "execution_count": 34,
     "metadata": {},
     "output_type": "execute_result"
    }
   ],
   "source": [
    "merged_data[(merged_data.byt_diff == 0) & (merged_data.label == 1)].count()"
   ]
  },
  {
   "cell_type": "code",
   "execution_count": 35,
   "metadata": {
    "scrolled": true
   },
   "outputs": [
    {
     "data": {
      "text/plain": [
       "te\n",
       "2016-04-08 07:20:00        124\n",
       "2016-04-08 07:25:00        124\n",
       "2016-04-08 07:45:00        124\n",
       "2016-04-08 08:25:00        124\n",
       "2016-04-08 08:30:00        124\n",
       "2016-04-07 16:45:00        420\n",
       "2016-04-07 22:25:00       1401\n",
       "2016-04-09 13:25:00      20078\n",
       "2016-04-09 16:55:00      20119\n",
       "2016-04-07 12:30:00      32357\n",
       "2016-04-08 16:30:00      35083\n",
       "2016-04-06 18:25:00      41623\n",
       "2016-04-07 16:40:00      41904\n",
       "2016-04-08 11:00:00      42409\n",
       "2016-04-08 11:10:00      42616\n",
       "2016-04-07 17:00:00      44172\n",
       "2016-04-09 10:20:00      52687\n",
       "2016-04-07 10:35:00      75865\n",
       "2016-04-08 10:30:00      76688\n",
       "2016-04-08 11:35:00      77061\n",
       "2016-04-08 11:20:00     100816\n",
       "2016-04-07 11:00:00     108169\n",
       "2016-04-09 00:35:00     108701\n",
       "2016-04-09 01:00:00     109027\n",
       "2016-04-08 11:25:00     125016\n",
       "2016-04-08 16:35:00     134616\n",
       "2016-04-07 17:05:00     218275\n",
       "2016-04-07 22:20:00     334460\n",
       "2016-04-07 21:50:00     335839\n",
       "2016-04-07 22:00:00     335931\n",
       "2016-04-07 22:10:00     335962\n",
       "2016-04-07 21:40:00     336750\n",
       "2016-04-07 17:20:00     930733\n",
       "2016-04-07 21:20:00     940802\n",
       "2016-04-07 21:25:00    1877271\n",
       "2016-04-07 21:30:00    1881002\n",
       "2016-04-07 19:00:00    2394643\n",
       "2016-04-07 19:30:00    2404060\n",
       "2016-04-07 19:15:00    2410665\n",
       "2016-04-07 20:10:00    2419833\n",
       "Name: byt_diff, dtype: int64"
      ]
     },
     "execution_count": 35,
     "metadata": {},
     "output_type": "execute_result"
    }
   ],
   "source": [
    "merged_data[merged_data.byt_diff !=0].byt_diff.nsmallest(40)"
   ]
  },
  {
   "cell_type": "code",
   "execution_count": 36,
   "metadata": {},
   "outputs": [],
   "source": [
    "data['anomaly'] = data['label'].apply(lambda x: 0 if x in(normal_traffic_type) else 1)"
   ]
  },
  {
   "cell_type": "code",
   "execution_count": 37,
   "metadata": {},
   "outputs": [],
   "source": [
    "protocols = ['TCP', 'UDP', 'ICMP', 'GRE', 'ESP', 'RSVP', 'IPv6', 'IPIP', '255','nan']\n",
    "data['protocol'] = data['pr'].apply(lambda x: protocols.index(x) if x in protocols else -1)"
   ]
  },
  {
   "cell_type": "code",
   "execution_count": 38,
   "metadata": {},
   "outputs": [
    {
     "data": {
      "text/plain": [
       "array(['TCP'], dtype=object)"
      ]
     },
     "execution_count": 38,
     "metadata": {},
     "output_type": "execute_result"
    }
   ],
   "source": [
    "data_anomaly_traffic['pr'].unique()"
   ]
  },
  {
   "cell_type": "code",
   "execution_count": 39,
   "metadata": {},
   "outputs": [
    {
     "data": {
      "text/plain": [
       "array(['.AP.SF', '.APRS.', '...R..', '.AP.S.', '.AP..F', '.APR..',\n",
       "       '.A..SF', '.A.RS.', '.A.R..', '.AP...', '.A..S.', '....S.',\n",
       "       '...RS.', '.A.RSF', '.A.R.F', '.A...F', '.APRSF', '.A....',\n",
       "       '.APR.F', 'U.PR.F', 'U.P.SF'], dtype=object)"
      ]
     },
     "execution_count": 39,
     "metadata": {},
     "output_type": "execute_result"
    }
   ],
   "source": [
    "data_anomaly_traffic['flg'].unique()"
   ]
  },
  {
   "cell_type": "code",
   "execution_count": 40,
   "metadata": {},
   "outputs": [
    {
     "data": {
      "text/plain": [
       "array(['TCP', 'UDP', 'ICMP', 'GRE', 'ESP', 'RSVP', 'IPv6', 'IPIP', '255',\n",
       "       nan], dtype=object)"
      ]
     },
     "execution_count": 40,
     "metadata": {},
     "output_type": "execute_result"
    }
   ],
   "source": [
    "data['pr'].unique()"
   ]
  },
  {
   "cell_type": "code",
   "execution_count": 41,
   "metadata": {},
   "outputs": [
    {
     "data": {
      "text/plain": [
       "array(['.AP...', '.A....', '....S.', '.A...F', '.A.R..', '.A..S.',\n",
       "       '.AP.SF', '.AP.S.', '.AP..F', '...R..', '.APR..', '.A..SF',\n",
       "       '.APRSF', '.APRS.', '.A.RSF', '.A.R.F', '...RS.', '.A.RS.',\n",
       "       '.APR.F', '......', 'UAP.SF', '..P.S.', 'UAP...', '..P.SF',\n",
       "       'UA.RS.', 'U.P.S.', '..PR.F', '.....F', 'UA..SF', 'UA...F',\n",
       "       'UAP..F', 'U...S.', 'UAPRSF', 'U..RSF', '...R.F', 'UA.R..',\n",
       "       '..PRS.', 'U..RS.', '....SF', 'U..R..', 'U...SF', 'UA....',\n",
       "       'UAPR..', 'UAPRS.', 'UAP.S.', 'U.P..F', 'UA..S.', 'U.P.SF',\n",
       "       'U.PRSF', 'UAPR.F', 'UA.R.F', 'U....F', '..PR..', '..PRSF',\n",
       "       'U.PR.F', '..P...', 'U.P...', 'UA.RSF', 'U.PRS.', 'U.PR..',\n",
       "       'U..R.F', '...RSF', 'U.....', '..P..F'], dtype=object)"
      ]
     },
     "execution_count": 41,
     "metadata": {},
     "output_type": "execute_result"
    }
   ],
   "source": [
    "data['flg'].unique()"
   ]
  },
  {
   "cell_type": "code",
   "execution_count": 42,
   "metadata": {},
   "outputs": [
    {
     "data": {
      "text/plain": [
       "array([ 0,  1,  2,  3,  4,  5,  6,  7,  8, -1])"
      ]
     },
     "execution_count": 42,
     "metadata": {},
     "output_type": "execute_result"
    }
   ],
   "source": [
    "data['protocol'].unique()"
   ]
  },
  {
   "cell_type": "code",
   "execution_count": null,
   "metadata": {},
   "outputs": [],
   "source": []
  }
 ],
 "metadata": {
  "kernelspec": {
   "display_name": "Python 3",
   "language": "python",
   "name": "python3"
  },
  "language_info": {
   "codemirror_mode": {
    "name": "ipython",
    "version": 3
   },
   "file_extension": ".py",
   "mimetype": "text/x-python",
   "name": "python",
   "nbconvert_exporter": "python",
   "pygments_lexer": "ipython3",
   "version": "3.7.4"
  }
 },
 "nbformat": 4,
 "nbformat_minor": 2
}
